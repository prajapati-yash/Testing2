{
 "cells": [
  {
   "cell_type": "markdown",
   "metadata": {},
   "source": [
    "  #### The Spaceship Titanic challenge on Kaggle is a competition in which the task is to predict which passengers are transported to an alternate dimension, based on a set of variables."
   ]
  },
  {
   "cell_type": "markdown",
   "metadata": {},
   "source": [
    " Importing libraries"
   ]
  },
  {
   "cell_type": "code",
   "execution_count": 5,
   "metadata": {
    "execution": {
     "iopub.execute_input": "2023-06-09T05:27:43.392401Z",
     "iopub.status.busy": "2023-06-09T05:27:43.392006Z",
     "iopub.status.idle": "2023-06-09T05:27:43.400687Z",
     "shell.execute_reply": "2023-06-09T05:27:43.399527Z",
     "shell.execute_reply.started": "2023-06-09T05:27:43.392372Z"
    }
   },
   "outputs": [],
   "source": [
    "import pandas as pd\n",
    "import numpy as np\n",
    "\n",
    "import warnings\n",
    "warnings.filterwarnings('ignore')\n",
    "\n",
    "import matplotlib.pyplot as plt\n",
    "import seaborn as sns\n",
    "%matplotlib inline"
   ]
  },
  {
   "cell_type": "markdown",
   "metadata": {},
   "source": [
    "## Load Data"
   ]
  },
  {
   "cell_type": "code",
   "execution_count": 6,
   "metadata": {
    "execution": {
     "iopub.execute_input": "2023-06-09T05:27:43.411051Z",
     "iopub.status.busy": "2023-06-09T05:27:43.410692Z",
     "iopub.status.idle": "2023-06-09T05:27:43.467007Z",
     "shell.execute_reply": "2023-06-09T05:27:43.465886Z",
     "shell.execute_reply.started": "2023-06-09T05:27:43.411023Z"
    }
   },
   "outputs": [],
   "source": [
    "train=pd.read_csv(\"train.csv\")\n",
    "test=pd.read_csv(\"test.csv\")"
   ]
  },
  {
   "cell_type": "markdown",
   "metadata": {},
   "source": [
    "## EDA"
   ]
  },
  {
   "cell_type": "code",
   "execution_count": 4,
   "metadata": {
    "execution": {
     "iopub.execute_input": "2023-06-09T05:27:43.469531Z",
     "iopub.status.busy": "2023-06-09T05:27:43.469108Z",
     "iopub.status.idle": "2023-06-09T05:27:43.492947Z",
     "shell.execute_reply": "2023-06-09T05:27:43.491624Z",
     "shell.execute_reply.started": "2023-06-09T05:27:43.46949Z"
    }
   },
   "outputs": [
    {
     "data": {
      "text/html": [
       "<div>\n",
       "<style scoped>\n",
       "    .dataframe tbody tr th:only-of-type {\n",
       "        vertical-align: middle;\n",
       "    }\n",
       "\n",
       "    .dataframe tbody tr th {\n",
       "        vertical-align: top;\n",
       "    }\n",
       "\n",
       "    .dataframe thead th {\n",
       "        text-align: right;\n",
       "    }\n",
       "</style>\n",
       "<table border=\"1\" class=\"dataframe\">\n",
       "  <thead>\n",
       "    <tr style=\"text-align: right;\">\n",
       "      <th></th>\n",
       "      <th>PassengerId</th>\n",
       "      <th>HomePlanet</th>\n",
       "      <th>CryoSleep</th>\n",
       "      <th>Cabin</th>\n",
       "      <th>Destination</th>\n",
       "      <th>Age</th>\n",
       "      <th>VIP</th>\n",
       "      <th>RoomService</th>\n",
       "      <th>FoodCourt</th>\n",
       "      <th>ShoppingMall</th>\n",
       "      <th>Spa</th>\n",
       "      <th>VRDeck</th>\n",
       "      <th>Name</th>\n",
       "      <th>Transported</th>\n",
       "    </tr>\n",
       "  </thead>\n",
       "  <tbody>\n",
       "    <tr>\n",
       "      <th>0</th>\n",
       "      <td>0001_01</td>\n",
       "      <td>Europa</td>\n",
       "      <td>False</td>\n",
       "      <td>B/0/P</td>\n",
       "      <td>TRAPPIST-1e</td>\n",
       "      <td>39.0</td>\n",
       "      <td>False</td>\n",
       "      <td>0.0</td>\n",
       "      <td>0.0</td>\n",
       "      <td>0.0</td>\n",
       "      <td>0.0</td>\n",
       "      <td>0.0</td>\n",
       "      <td>Maham Ofracculy</td>\n",
       "      <td>False</td>\n",
       "    </tr>\n",
       "    <tr>\n",
       "      <th>1</th>\n",
       "      <td>0002_01</td>\n",
       "      <td>Earth</td>\n",
       "      <td>False</td>\n",
       "      <td>F/0/S</td>\n",
       "      <td>TRAPPIST-1e</td>\n",
       "      <td>24.0</td>\n",
       "      <td>False</td>\n",
       "      <td>109.0</td>\n",
       "      <td>9.0</td>\n",
       "      <td>25.0</td>\n",
       "      <td>549.0</td>\n",
       "      <td>44.0</td>\n",
       "      <td>Juanna Vines</td>\n",
       "      <td>True</td>\n",
       "    </tr>\n",
       "    <tr>\n",
       "      <th>2</th>\n",
       "      <td>0003_01</td>\n",
       "      <td>Europa</td>\n",
       "      <td>False</td>\n",
       "      <td>A/0/S</td>\n",
       "      <td>TRAPPIST-1e</td>\n",
       "      <td>58.0</td>\n",
       "      <td>True</td>\n",
       "      <td>43.0</td>\n",
       "      <td>3576.0</td>\n",
       "      <td>0.0</td>\n",
       "      <td>6715.0</td>\n",
       "      <td>49.0</td>\n",
       "      <td>Altark Susent</td>\n",
       "      <td>False</td>\n",
       "    </tr>\n",
       "    <tr>\n",
       "      <th>3</th>\n",
       "      <td>0003_02</td>\n",
       "      <td>Europa</td>\n",
       "      <td>False</td>\n",
       "      <td>A/0/S</td>\n",
       "      <td>TRAPPIST-1e</td>\n",
       "      <td>33.0</td>\n",
       "      <td>False</td>\n",
       "      <td>0.0</td>\n",
       "      <td>1283.0</td>\n",
       "      <td>371.0</td>\n",
       "      <td>3329.0</td>\n",
       "      <td>193.0</td>\n",
       "      <td>Solam Susent</td>\n",
       "      <td>False</td>\n",
       "    </tr>\n",
       "    <tr>\n",
       "      <th>4</th>\n",
       "      <td>0004_01</td>\n",
       "      <td>Earth</td>\n",
       "      <td>False</td>\n",
       "      <td>F/1/S</td>\n",
       "      <td>TRAPPIST-1e</td>\n",
       "      <td>16.0</td>\n",
       "      <td>False</td>\n",
       "      <td>303.0</td>\n",
       "      <td>70.0</td>\n",
       "      <td>151.0</td>\n",
       "      <td>565.0</td>\n",
       "      <td>2.0</td>\n",
       "      <td>Willy Santantines</td>\n",
       "      <td>True</td>\n",
       "    </tr>\n",
       "  </tbody>\n",
       "</table>\n",
       "</div>"
      ],
      "text/plain": [
       "  PassengerId HomePlanet CryoSleep  Cabin  Destination   Age    VIP  \\\n",
       "0     0001_01     Europa     False  B/0/P  TRAPPIST-1e  39.0  False   \n",
       "1     0002_01      Earth     False  F/0/S  TRAPPIST-1e  24.0  False   \n",
       "2     0003_01     Europa     False  A/0/S  TRAPPIST-1e  58.0   True   \n",
       "3     0003_02     Europa     False  A/0/S  TRAPPIST-1e  33.0  False   \n",
       "4     0004_01      Earth     False  F/1/S  TRAPPIST-1e  16.0  False   \n",
       "\n",
       "   RoomService  FoodCourt  ShoppingMall     Spa  VRDeck               Name  \\\n",
       "0          0.0        0.0           0.0     0.0     0.0    Maham Ofracculy   \n",
       "1        109.0        9.0          25.0   549.0    44.0       Juanna Vines   \n",
       "2         43.0     3576.0           0.0  6715.0    49.0      Altark Susent   \n",
       "3          0.0     1283.0         371.0  3329.0   193.0       Solam Susent   \n",
       "4        303.0       70.0         151.0   565.0     2.0  Willy Santantines   \n",
       "\n",
       "   Transported  \n",
       "0        False  \n",
       "1         True  \n",
       "2        False  \n",
       "3        False  \n",
       "4         True  "
      ]
     },
     "execution_count": 4,
     "metadata": {},
     "output_type": "execute_result"
    }
   ],
   "source": [
    "train.head()"
   ]
  },
  {
   "cell_type": "code",
   "execution_count": 5,
   "metadata": {
    "execution": {
     "iopub.execute_input": "2023-06-09T05:27:43.495552Z",
     "iopub.status.busy": "2023-06-09T05:27:43.495123Z",
     "iopub.status.idle": "2023-06-09T05:27:43.509574Z",
     "shell.execute_reply": "2023-06-09T05:27:43.508073Z",
     "shell.execute_reply.started": "2023-06-09T05:27:43.495512Z"
    }
   },
   "outputs": [
    {
     "name": "stdout",
     "output_type": "stream",
     "text": [
      "Shape of train dataset :  (8693, 14)\n",
      "Shape of test dataset :  (4277, 13)\n"
     ]
    }
   ],
   "source": [
    "print(\"Shape of train dataset : \",train.shape)\n",
    "print(\"Shape of test dataset : \",test.shape)"
   ]
  },
  {
   "cell_type": "code",
   "execution_count": 6,
   "metadata": {
    "execution": {
     "iopub.execute_input": "2023-06-09T05:27:43.512465Z",
     "iopub.status.busy": "2023-06-09T05:27:43.51208Z",
     "iopub.status.idle": "2023-06-09T05:27:43.526971Z",
     "shell.execute_reply": "2023-06-09T05:27:43.525798Z",
     "shell.execute_reply.started": "2023-06-09T05:27:43.512436Z"
    }
   },
   "outputs": [
    {
     "data": {
      "text/plain": [
       "Index(['PassengerId', 'HomePlanet', 'CryoSleep', 'Cabin', 'Destination', 'Age',\n",
       "       'VIP', 'RoomService', 'FoodCourt', 'ShoppingMall', 'Spa', 'VRDeck',\n",
       "       'Name', 'Transported'],\n",
       "      dtype='object')"
      ]
     },
     "execution_count": 6,
     "metadata": {},
     "output_type": "execute_result"
    }
   ],
   "source": [
    "train.columns"
   ]
  },
  {
   "cell_type": "code",
   "execution_count": 7,
   "metadata": {
    "execution": {
     "iopub.execute_input": "2023-06-09T05:27:43.529456Z",
     "iopub.status.busy": "2023-06-09T05:27:43.529142Z",
     "iopub.status.idle": "2023-06-09T05:27:43.566361Z",
     "shell.execute_reply": "2023-06-09T05:27:43.565108Z",
     "shell.execute_reply.started": "2023-06-09T05:27:43.529429Z"
    }
   },
   "outputs": [
    {
     "name": "stdout",
     "output_type": "stream",
     "text": [
      "<class 'pandas.core.frame.DataFrame'>\n",
      "RangeIndex: 8693 entries, 0 to 8692\n",
      "Data columns (total 14 columns):\n",
      " #   Column        Non-Null Count  Dtype  \n",
      "---  ------        --------------  -----  \n",
      " 0   PassengerId   8693 non-null   object \n",
      " 1   HomePlanet    8492 non-null   object \n",
      " 2   CryoSleep     8476 non-null   object \n",
      " 3   Cabin         8494 non-null   object \n",
      " 4   Destination   8511 non-null   object \n",
      " 5   Age           8514 non-null   float64\n",
      " 6   VIP           8490 non-null   object \n",
      " 7   RoomService   8512 non-null   float64\n",
      " 8   FoodCourt     8510 non-null   float64\n",
      " 9   ShoppingMall  8485 non-null   float64\n",
      " 10  Spa           8510 non-null   float64\n",
      " 11  VRDeck        8505 non-null   float64\n",
      " 12  Name          8493 non-null   object \n",
      " 13  Transported   8693 non-null   bool   \n",
      "dtypes: bool(1), float64(6), object(7)\n",
      "memory usage: 891.5+ KB\n"
     ]
    }
   ],
   "source": [
    "train.info()"
   ]
  },
  {
   "cell_type": "code",
   "execution_count": 8,
   "metadata": {
    "execution": {
     "iopub.execute_input": "2023-06-09T05:27:43.568245Z",
     "iopub.status.busy": "2023-06-09T05:27:43.567935Z",
     "iopub.status.idle": "2023-06-09T05:27:43.576892Z",
     "shell.execute_reply": "2023-06-09T05:27:43.575638Z",
     "shell.execute_reply.started": "2023-06-09T05:27:43.568219Z"
    }
   },
   "outputs": [
    {
     "data": {
      "text/plain": [
       "True     4378\n",
       "False    4315\n",
       "Name: Transported, dtype: int64"
      ]
     },
     "execution_count": 8,
     "metadata": {},
     "output_type": "execute_result"
    }
   ],
   "source": [
    "#analysing Transported column\n",
    "train['Transported'].value_counts()"
   ]
  },
  {
   "cell_type": "code",
   "execution_count": 9,
   "metadata": {
    "execution": {
     "iopub.execute_input": "2023-06-09T05:27:43.580349Z",
     "iopub.status.busy": "2023-06-09T05:27:43.579878Z",
     "iopub.status.idle": "2023-06-09T05:27:43.752841Z",
     "shell.execute_reply": "2023-06-09T05:27:43.75171Z",
     "shell.execute_reply.started": "2023-06-09T05:27:43.580311Z"
    }
   },
   "outputs": [
    {
     "data": {
      "text/plain": [
       "<Axes: xlabel='Transported', ylabel='count'>"
      ]
     },
     "execution_count": 9,
     "metadata": {},
     "output_type": "execute_result"
    },
    {
     "data": {
      "image/png": "[encoded data removed]",
      "text/plain": [
       "<Figure size 640x480 with 1 Axes>"
      ]
     },
     "metadata": {},
     "output_type": "display_data"
    }
   ],
   "source": [
    "#countplot\n",
    "sns.countplot(x='Transported',data=train,palette=['g','y'])"
   ]
  },
  {
   "cell_type": "code",
   "execution_count": 10,
   "metadata": {
    "execution": {
     "iopub.execute_input": "2023-06-09T05:27:43.756053Z",
     "iopub.status.busy": "2023-06-09T05:27:43.7554Z",
     "iopub.status.idle": "2023-06-09T05:27:44.035042Z",
     "shell.execute_reply": "2023-06-09T05:27:44.033901Z",
     "shell.execute_reply.started": "2023-06-09T05:27:43.756019Z"
    }
   },
   "outputs": [
    {
     "data": {
      "text/plain": [
       "<Axes: xlabel='VIP', ylabel='count'>"
      ]
     },
     "execution_count": 10,
     "metadata": {},
     "output_type": "execute_result"
    },
    {
     "data": {
      "image/png": "[encoded data removed]",
      "text/plain": [
       "<Figure size 640x480 with 1 Axes>"
      ]
     },
     "metadata": {},
     "output_type": "display_data"
    }
   ],
   "source": [
    "#analysing VIP column\n",
    "sns.countplot(x='VIP',data=train,palette=['g','y'])"
   ]
  },
  {
   "cell_type": "code",
   "execution_count": 11,
   "metadata": {
    "execution": {
     "iopub.execute_input": "2023-06-09T05:27:44.037109Z",
     "iopub.status.busy": "2023-06-09T05:27:44.036658Z",
     "iopub.status.idle": "2023-06-09T05:27:44.044554Z",
     "shell.execute_reply": "2023-06-09T05:27:44.043546Z",
     "shell.execute_reply.started": "2023-06-09T05:27:44.037067Z"
    }
   },
   "outputs": [],
   "source": [
    "#create new feature\n",
    "train['Not Transported']=1-train['Transported']"
   ]
  },
  {
   "cell_type": "code",
   "execution_count": 12,
   "metadata": {
    "execution": {
     "iopub.execute_input": "2023-06-09T05:27:44.047977Z",
     "iopub.status.busy": "2023-06-09T05:27:44.047587Z",
     "iopub.status.idle": "2023-06-09T05:27:44.370785Z",
     "shell.execute_reply": "2023-06-09T05:27:44.369685Z",
     "shell.execute_reply.started": "2023-06-09T05:27:44.047946Z"
    }
   },
   "outputs": [
    {
     "data": {
      "text/plain": [
       "<Axes: xlabel='VIP'>"
      ]
     },
     "execution_count": 12,
     "metadata": {},
     "output_type": "execute_result"
    },
    {
     "data": {
      "image/png": "[encoded data removed]",
      "text/plain": [
       "<Figure size 1000x500 with 1 Axes>"
      ]
     },
     "metadata": {},
     "output_type": "display_data"
    }
   ],
   "source": [
    "#visulazing transported based VIP column\n",
    "train.groupby('VIP').agg('sum')[['Transported','Not Transported']].plot(kind='bar',figsize=(10,5),stacked=True)"
   ]
  },
  {
   "cell_type": "markdown",
   "metadata": {},
   "source": [
    "## Data Cleaning"
   ]
  },
  {
   "cell_type": "code",
   "execution_count": 13,
   "metadata": {
    "execution": {
     "iopub.execute_input": "2023-06-09T05:27:44.37336Z",
     "iopub.status.busy": "2023-06-09T05:27:44.372296Z",
     "iopub.status.idle": "2023-06-09T05:27:44.404315Z",
     "shell.execute_reply": "2023-06-09T05:27:44.403097Z",
     "shell.execute_reply.started": "2023-06-09T05:27:44.373319Z"
    }
   },
   "outputs": [
    {
     "data": {
      "text/plain": [
       "CryoSleep          217\n",
       "ShoppingMall       208\n",
       "VIP                203\n",
       "HomePlanet         201\n",
       "Name               200\n",
       "Cabin              199\n",
       "VRDeck             188\n",
       "FoodCourt          183\n",
       "Spa                183\n",
       "Destination        182\n",
       "RoomService        181\n",
       "Age                179\n",
       "PassengerId          0\n",
       "Transported          0\n",
       "Not Transported      0\n",
       "dtype: int64"
      ]
     },
     "execution_count": 13,
     "metadata": {},
     "output_type": "execute_result"
    }
   ],
   "source": [
    "#checking the no of null values in the dataset\n",
    "train.isnull().sum().sort_values(ascending=False)"
   ]
  },
  {
   "cell_type": "code",
   "execution_count": 7,
   "metadata": {
    "execution": {
     "iopub.execute_input": "2023-06-09T05:27:44.406662Z",
     "iopub.status.busy": "2023-06-09T05:27:44.40624Z",
     "iopub.status.idle": "2023-06-09T05:27:44.420796Z",
     "shell.execute_reply": "2023-06-09T05:27:44.419602Z",
     "shell.execute_reply.started": "2023-06-09T05:27:44.406623Z"
    }
   },
   "outputs": [],
   "source": [
    "#filling null values with mean in numerical columns\n",
    "\n",
    "train['Age']=train['Age'].fillna(train['Age'].mean())\n",
    "train['RoomService']=train['RoomService'].fillna(train['RoomService'].mean())\n",
    "train['FoodCourt']=train['FoodCourt'].fillna(train['FoodCourt'].mean())\n",
    "train['ShoppingMall']=train['ShoppingMall'].fillna(train['ShoppingMall'].mean())\n",
    "train['Spa']=train['Spa'].fillna(train['Spa'].mean())\n",
    "train['VRDeck']=train['VRDeck'].fillna(train['VRDeck'].mean())"
   ]
  },
  {
   "cell_type": "code",
   "execution_count": 8,
   "metadata": {
    "execution": {
     "iopub.execute_input": "2023-06-09T05:27:44.423208Z",
     "iopub.status.busy": "2023-06-09T05:27:44.422479Z",
     "iopub.status.idle": "2023-06-09T05:27:44.452661Z",
     "shell.execute_reply": "2023-06-09T05:27:44.451668Z",
     "shell.execute_reply.started": "2023-06-09T05:27:44.423167Z"
    }
   },
   "outputs": [],
   "source": [
    "#filling null values with mode in categorical columns\n",
    "\n",
    "train['HomePlanet']=train['HomePlanet'].fillna(train['HomePlanet'].mode()[0])\n",
    "train['CryoSleep']=train['CryoSleep'].fillna(train['CryoSleep'].mode()[0])\n",
    "train['Destination']=train['Destination'].fillna(train['Destination'].mode()[0])\n",
    "train['VIP']=train['VIP'].fillna(train['VIP'].mode()[0])\n",
    "train['Cabin']=train['Cabin'].fillna(train['Cabin'].mode()[0])"
   ]
  },
  {
   "cell_type": "code",
   "execution_count": 9,
   "metadata": {
    "execution": {
     "iopub.execute_input": "2023-06-09T05:27:44.45512Z",
     "iopub.status.busy": "2023-06-09T05:27:44.454051Z",
     "iopub.status.idle": "2023-06-09T05:27:44.489737Z",
     "shell.execute_reply": "2023-06-09T05:27:44.488678Z",
     "shell.execute_reply.started": "2023-06-09T05:27:44.455081Z"
    }
   },
   "outputs": [
    {
     "data": {
      "text/plain": [
       "Name            200\n",
       "PassengerId       0\n",
       "HomePlanet        0\n",
       "CryoSleep         0\n",
       "Cabin             0\n",
       "Destination       0\n",
       "Age               0\n",
       "VIP               0\n",
       "RoomService       0\n",
       "FoodCourt         0\n",
       "ShoppingMall      0\n",
       "Spa               0\n",
       "VRDeck            0\n",
       "Transported       0\n",
       "dtype: int64"
      ]
     },
     "execution_count": 9,
     "metadata": {},
     "output_type": "execute_result"
    }
   ],
   "source": [
    "train.isnull().sum().sort_values(ascending=False)"
   ]
  },
  {
   "cell_type": "markdown",
   "metadata": {},
   "source": [
    "## Feature Engineering"
   ]
  },
  {
   "cell_type": "code",
   "execution_count": 10,
   "metadata": {
    "execution": {
     "iopub.execute_input": "2023-06-09T05:27:44.491417Z",
     "iopub.status.busy": "2023-06-09T05:27:44.491004Z",
     "iopub.status.idle": "2023-06-09T05:27:44.505141Z",
     "shell.execute_reply": "2023-06-09T05:27:44.503963Z",
     "shell.execute_reply.started": "2023-06-09T05:27:44.49138Z"
    }
   },
   "outputs": [
    {
     "data": {
      "text/plain": [
       "G/734/S     207\n",
       "C/21/P        7\n",
       "B/201/P       7\n",
       "G/1368/P      7\n",
       "E/13/S        7\n",
       "           ... \n",
       "G/556/P       1\n",
       "E/231/S       1\n",
       "G/545/S       1\n",
       "G/543/S       1\n",
       "F/947/P       1\n",
       "Name: Cabin, Length: 6560, dtype: int64"
      ]
     },
     "execution_count": 10,
     "metadata": {},
     "output_type": "execute_result"
    }
   ],
   "source": [
    "#count unique values in cabin column\n",
    "train.Cabin.value_counts()"
   ]
  },
  {
   "cell_type": "code",
   "execution_count": null,
   "metadata": {
    "execution": {
     "iopub.execute_input": "2023-06-09T05:27:44.510167Z",
     "iopub.status.busy": "2023-06-09T05:27:44.509816Z",
     "iopub.status.idle": "2023-06-09T05:27:44.527554Z",
     "shell.execute_reply": "2023-06-09T05:27:44.526472Z",
     "shell.execute_reply.started": "2023-06-09T05:27:44.510139Z"
    }
   },
   "outputs": [],
   "source": [
    "train['Cabin_side'] = train['Cabin'].apply(lambda x: x.split('/')[2])\n",
    "train['Cabin_side'].unique()"
   ]
  },
  {
   "cell_type": "markdown",
   "metadata": {},
   "source": [
    "P - cabin side Port ;\n",
    "S - cabin side Starboard"
   ]
  },
  {
   "cell_type": "code",
   "execution_count": null,
   "metadata": {
    "execution": {
     "iopub.execute_input": "2023-06-09T05:27:44.529609Z",
     "iopub.status.busy": "2023-06-09T05:27:44.529316Z",
     "iopub.status.idle": "2023-06-09T05:27:44.558381Z",
     "shell.execute_reply": "2023-06-09T05:27:44.55686Z",
     "shell.execute_reply.started": "2023-06-09T05:27:44.529584Z"
    }
   },
   "outputs": [],
   "source": [
    "df1=train\n",
    "df1.head()"
   ]
  },
  {
   "cell_type": "code",
   "execution_count": null,
   "metadata": {
    "execution": {
     "iopub.execute_input": "2023-06-09T05:27:44.560272Z",
     "iopub.status.busy": "2023-06-09T05:27:44.559865Z",
     "iopub.status.idle": "2023-06-09T05:27:44.577796Z",
     "shell.execute_reply": "2023-06-09T05:27:44.576838Z",
     "shell.execute_reply.started": "2023-06-09T05:27:44.560233Z"
    }
   },
   "outputs": [],
   "source": [
    "#converting categorical feature into numerical feature\n",
    "df1.HomePlanet=df1.HomePlanet.map({'Europa':0,'Earth':1,'Mars':2})\n",
    "df1.Cabin_side=df1.Cabin_side.map({'P':0,'S':1})"
   ]
  },
  {
   "cell_type": "code",
   "execution_count": null,
   "metadata": {
    "execution": {
     "iopub.execute_input": "2023-06-09T05:27:44.580326Z",
     "iopub.status.busy": "2023-06-09T05:27:44.579383Z",
     "iopub.status.idle": "2023-06-09T05:27:44.5914Z",
     "shell.execute_reply": "2023-06-09T05:27:44.59057Z",
     "shell.execute_reply.started": "2023-06-09T05:27:44.580287Z"
    }
   },
   "outputs": [],
   "source": [
    "df1.Destination=df1.Destination.map({'TRAPPIST-1e':0,'PSO J318.5-22':1,'55 Cancri e':2})"
   ]
  },
  {
   "cell_type": "code",
   "execution_count": null,
   "metadata": {
    "execution": {
     "iopub.execute_input": "2023-06-09T05:27:44.593766Z",
     "iopub.status.busy": "2023-06-09T05:27:44.592754Z",
     "iopub.status.idle": "2023-06-09T05:27:44.632623Z",
     "shell.execute_reply": "2023-06-09T05:27:44.631693Z",
     "shell.execute_reply.started": "2023-06-09T05:27:44.593736Z"
    }
   },
   "outputs": [],
   "source": [
    "df1[\"CryoSleep\"].replace(False,0,inplace=True)\n",
    "df1[\"CryoSleep\"].replace(True,1,inplace=True)\n",
    "df1[\"VIP\"].replace(False,0,inplace=True)\n",
    "df1[\"VIP\"].replace(True,1,inplace=True)\n",
    "df1[\"Transported\"].replace(False,0,inplace=True)\n",
    "df1[\"Transported\"].replace(True,1,inplace=True)"
   ]
  },
  {
   "cell_type": "code",
   "execution_count": null,
   "metadata": {
    "execution": {
     "iopub.execute_input": "2023-06-09T05:27:44.635256Z",
     "iopub.status.busy": "2023-06-09T05:27:44.633942Z",
     "iopub.status.idle": "2023-06-09T05:27:44.64312Z",
     "shell.execute_reply": "2023-06-09T05:27:44.642044Z",
     "shell.execute_reply.started": "2023-06-09T05:27:44.635217Z"
    }
   },
   "outputs": [],
   "source": [
    "#droping unwanted columns\n",
    "df1=train.drop(['Name','Cabin','Not Transported'],axis=1)"
   ]
  },
  {
   "cell_type": "code",
   "execution_count": null,
   "metadata": {
    "execution": {
     "iopub.execute_input": "2023-06-09T05:27:44.64666Z",
     "iopub.status.busy": "2023-06-09T05:27:44.645972Z",
     "iopub.status.idle": "2023-06-09T05:27:44.670571Z",
     "shell.execute_reply": "2023-06-09T05:27:44.66973Z",
     "shell.execute_reply.started": "2023-06-09T05:27:44.646622Z"
    }
   },
   "outputs": [],
   "source": [
    "#final_df\n",
    "df1.head()"
   ]
  },
  {
   "cell_type": "code",
   "execution_count": null,
   "metadata": {
    "execution": {
     "iopub.execute_input": "2023-06-09T05:27:44.672801Z",
     "iopub.status.busy": "2023-06-09T05:27:44.672129Z",
     "iopub.status.idle": "2023-06-09T05:27:44.73003Z",
     "shell.execute_reply": "2023-06-09T05:27:44.728924Z",
     "shell.execute_reply.started": "2023-06-09T05:27:44.672762Z"
    }
   },
   "outputs": [],
   "source": [
    "df1.describe()"
   ]
  },
  {
   "cell_type": "code",
   "execution_count": null,
   "metadata": {
    "execution": {
     "iopub.execute_input": "2023-06-09T05:27:44.734477Z",
     "iopub.status.busy": "2023-06-09T05:27:44.733779Z",
     "iopub.status.idle": "2023-06-09T05:27:45.688397Z",
     "shell.execute_reply": "2023-06-09T05:27:45.687254Z",
     "shell.execute_reply.started": "2023-06-09T05:27:44.734435Z"
    }
   },
   "outputs": [],
   "source": [
    "#correlation heatmap\n",
    "plt.figure(figsize=(12,10))\n",
    "sns.heatmap(df1.corr(),annot=True,linewidth=0.4,cmap='Greens_r')"
   ]
  },
  {
   "cell_type": "code",
   "execution_count": null,
   "metadata": {
    "execution": {
     "iopub.execute_input": "2023-06-09T05:27:45.690667Z",
     "iopub.status.busy": "2023-06-09T05:27:45.690274Z",
     "iopub.status.idle": "2023-06-09T05:27:45.706022Z",
     "shell.execute_reply": "2023-06-09T05:27:45.704998Z",
     "shell.execute_reply.started": "2023-06-09T05:27:45.690632Z"
    }
   },
   "outputs": [],
   "source": [
    "#checking null values\n",
    "df1.isnull().sum()"
   ]
  },
  {
   "cell_type": "markdown",
   "metadata": {},
   "source": [
    "## Model Building"
   ]
  },
  {
   "cell_type": "markdown",
   "metadata": {},
   "source": [
    "#### Splitting data"
   ]
  },
  {
   "cell_type": "code",
   "execution_count": null,
   "metadata": {
    "execution": {
     "iopub.execute_input": "2023-06-09T05:27:45.7078Z",
     "iopub.status.busy": "2023-06-09T05:27:45.707363Z",
     "iopub.status.idle": "2023-06-09T05:27:45.716048Z",
     "shell.execute_reply": "2023-06-09T05:27:45.714776Z",
     "shell.execute_reply.started": "2023-06-09T05:27:45.707755Z"
    }
   },
   "outputs": [],
   "source": [
    "X=df1.drop(['Transported'],axis=1)\n",
    "y=df1['Transported']"
   ]
  },
  {
   "cell_type": "code",
   "execution_count": null,
   "metadata": {
    "execution": {
     "iopub.execute_input": "2023-06-09T05:27:45.717874Z",
     "iopub.status.busy": "2023-06-09T05:27:45.717442Z",
     "iopub.status.idle": "2023-06-09T05:27:45.729963Z",
     "shell.execute_reply": "2023-06-09T05:27:45.728922Z",
     "shell.execute_reply.started": "2023-06-09T05:27:45.717813Z"
    }
   },
   "outputs": [],
   "source": [
    "from sklearn.model_selection import train_test_split\n",
    "\n",
    "X_train,X_val,y_train,y_val=train_test_split(X,y,test_size=0.2,random_state=0)"
   ]
  },
  {
   "cell_type": "code",
   "execution_count": null,
   "metadata": {
    "execution": {
     "iopub.execute_input": "2023-06-09T05:27:45.732202Z",
     "iopub.status.busy": "2023-06-09T05:27:45.731873Z",
     "iopub.status.idle": "2023-06-09T05:27:45.741024Z",
     "shell.execute_reply": "2023-06-09T05:27:45.740035Z",
     "shell.execute_reply.started": "2023-06-09T05:27:45.732172Z"
    }
   },
   "outputs": [],
   "source": [
    "print(f'X_train',X_train.shape)\n",
    "print(f'y_train',y_train.shape)\n",
    "print(f'X_val',X_val.shape)\n",
    "print(f'y_val',y_val.shape)"
   ]
  },
  {
   "cell_type": "markdown",
   "metadata": {},
   "source": [
    "## 1. K Nearest Neighbor"
   ]
  },
  {
   "cell_type": "code",
   "execution_count": null,
   "metadata": {
    "execution": {
     "iopub.execute_input": "2023-06-09T05:27:45.742474Z",
     "iopub.status.busy": "2023-06-09T05:27:45.742185Z",
     "iopub.status.idle": "2023-06-09T05:27:45.751926Z",
     "shell.execute_reply": "2023-06-09T05:27:45.75088Z",
     "shell.execute_reply.started": "2023-06-09T05:27:45.742449Z"
    }
   },
   "outputs": [],
   "source": [
    "from sklearn.neighbors import KNeighborsClassifier"
   ]
  },
  {
   "cell_type": "code",
   "execution_count": null,
   "metadata": {
    "execution": {
     "iopub.execute_input": "2023-06-09T05:27:45.753644Z",
     "iopub.status.busy": "2023-06-09T05:27:45.753179Z",
     "iopub.status.idle": "2023-06-09T05:27:48.666129Z",
     "shell.execute_reply": "2023-06-09T05:27:48.664939Z",
     "shell.execute_reply.started": "2023-06-09T05:27:45.753615Z"
    }
   },
   "outputs": [],
   "source": [
    "#to find which value shows the lowest werror\n",
    "error = []\n",
    "\n",
    "for i in range(1,30):\n",
    "    knn = KNeighborsClassifier(n_neighbors=i)\n",
    "    knn.fit(X_train, y_train)\n",
    "    pred_i = knn.predict(X_val)\n",
    "    error.append(np.mean(pred_i != y_val))"
   ]
  },
  {
   "cell_type": "code",
   "execution_count": null,
   "metadata": {
    "execution": {
     "iopub.execute_input": "2023-06-09T05:27:48.668431Z",
     "iopub.status.busy": "2023-06-09T05:27:48.667506Z",
     "iopub.status.idle": "2023-06-09T05:27:48.881787Z",
     "shell.execute_reply": "2023-06-09T05:27:48.880629Z",
     "shell.execute_reply.started": "2023-06-09T05:27:48.668397Z"
    }
   },
   "outputs": [],
   "source": [
    "plt.plot(range(1,30),error,color='green',linestyle='--',marker='o',markersize=10,markerfacecolor='g')"
   ]
  },
  {
   "cell_type": "markdown",
   "metadata": {},
   "source": [
    "From this graph, K value of 3 seem to show the lowest mean error."
   ]
  },
  {
   "cell_type": "code",
   "execution_count": null,
   "metadata": {
    "execution": {
     "iopub.execute_input": "2023-06-09T05:27:48.884434Z",
     "iopub.status.busy": "2023-06-09T05:27:48.883411Z",
     "iopub.status.idle": "2023-06-09T05:27:48.917124Z",
     "shell.execute_reply": "2023-06-09T05:27:48.916043Z",
     "shell.execute_reply.started": "2023-06-09T05:27:48.88439Z"
    }
   },
   "outputs": [],
   "source": [
    "knn = KNeighborsClassifier(n_neighbors=3)\n",
    "knn.fit(X_train, y_train)"
   ]
  },
  {
   "cell_type": "markdown",
   "metadata": {},
   "source": [
    "#### Prediction and Accuracy"
   ]
  },
  {
   "cell_type": "code",
   "execution_count": null,
   "metadata": {
    "execution": {
     "iopub.execute_input": "2023-06-09T05:27:48.91945Z",
     "iopub.status.busy": "2023-06-09T05:27:48.919024Z",
     "iopub.status.idle": "2023-06-09T05:27:49.005765Z",
     "shell.execute_reply": "2023-06-09T05:27:49.004777Z",
     "shell.execute_reply.started": "2023-06-09T05:27:48.919412Z"
    }
   },
   "outputs": [],
   "source": [
    "from sklearn.metrics import accuracy_score\n",
    "\n",
    "pred1 = knn.predict(X_val)\n",
    "a1=accuracy_score(y_val,pred1)\n",
    "print(\"Accuracy KNN Classifier : \",round(accuracy_score(y_val,pred1),4)*100, '%')"
   ]
  },
  {
   "cell_type": "markdown",
   "metadata": {},
   "source": [
    "## 2. AdaBoost Classifier"
   ]
  },
  {
   "cell_type": "code",
   "execution_count": null,
   "metadata": {
    "execution": {
     "iopub.execute_input": "2023-06-09T05:27:49.013872Z",
     "iopub.status.busy": "2023-06-09T05:27:49.013516Z",
     "iopub.status.idle": "2023-06-09T05:27:51.563711Z",
     "shell.execute_reply": "2023-06-09T05:27:51.56257Z",
     "shell.execute_reply.started": "2023-06-09T05:27:49.013841Z"
    }
   },
   "outputs": [],
   "source": [
    "from sklearn.ensemble import AdaBoostClassifier\n",
    "\n",
    "adbc=AdaBoostClassifier(n_estimators=115,learning_rate=0.412,random_state=42)\n",
    "adbc.fit(X_train,y_train)"
   ]
  },
  {
   "cell_type": "markdown",
   "metadata": {},
   "source": [
    "#### Prediction and Accuracy"
   ]
  },
  {
   "cell_type": "code",
   "execution_count": null,
   "metadata": {
    "execution": {
     "iopub.execute_input": "2023-06-09T05:27:51.565401Z",
     "iopub.status.busy": "2023-06-09T05:27:51.565083Z",
     "iopub.status.idle": "2023-06-09T05:27:51.834472Z",
     "shell.execute_reply": "2023-06-09T05:27:51.833204Z",
     "shell.execute_reply.started": "2023-06-09T05:27:51.565375Z"
    }
   },
   "outputs": [],
   "source": [
    "pred2=adbc.predict(X_val)\n",
    "a2=accuracy_score(y_val,pred2)\n",
    "print(\"Accuracy AdaBoost Classifier : \",round(accuracy_score(y_val,pred2),4)*100, '%')"
   ]
  },
  {
   "cell_type": "markdown",
   "metadata": {},
   "source": [
    "## 3. Gaussian Naive Bayes"
   ]
  },
  {
   "cell_type": "code",
   "execution_count": null,
   "metadata": {
    "execution": {
     "iopub.execute_input": "2023-06-09T05:27:51.836007Z",
     "iopub.status.busy": "2023-06-09T05:27:51.835675Z",
     "iopub.status.idle": "2023-06-09T05:27:51.861805Z",
     "shell.execute_reply": "2023-06-09T05:27:51.860631Z",
     "shell.execute_reply.started": "2023-06-09T05:27:51.835979Z"
    }
   },
   "outputs": [],
   "source": [
    "from sklearn.naive_bayes import GaussianNB\n",
    "gnb=GaussianNB()\n",
    "gnb.fit(X_train,y_train)"
   ]
  },
  {
   "cell_type": "markdown",
   "metadata": {},
   "source": [
    "#### Prediction and Accuracy"
   ]
  },
  {
   "cell_type": "code",
   "execution_count": null,
   "metadata": {
    "execution": {
     "iopub.execute_input": "2023-06-09T05:27:51.863737Z",
     "iopub.status.busy": "2023-06-09T05:27:51.863317Z",
     "iopub.status.idle": "2023-06-09T05:27:51.879632Z",
     "shell.execute_reply": "2023-06-09T05:27:51.87843Z",
     "shell.execute_reply.started": "2023-06-09T05:27:51.863693Z"
    }
   },
   "outputs": [],
   "source": [
    "pred3=gnb.predict(X_val)\n",
    "a3=accuracy_score(y_val,pred3)\n",
    "print(\"Accuracy Gaussian Naive Bayes : \",round(accuracy_score(y_val,pred3),4)*100, '%')"
   ]
  },
  {
   "cell_type": "markdown",
   "metadata": {},
   "source": [
    "## 4. Decision Tree Classifier"
   ]
  },
  {
   "cell_type": "code",
   "execution_count": null,
   "metadata": {
    "execution": {
     "iopub.execute_input": "2023-06-09T05:27:51.881091Z",
     "iopub.status.busy": "2023-06-09T05:27:51.880737Z",
     "iopub.status.idle": "2023-06-09T05:27:51.949742Z",
     "shell.execute_reply": "2023-06-09T05:27:51.948507Z",
     "shell.execute_reply.started": "2023-06-09T05:27:51.881062Z"
    }
   },
   "outputs": [],
   "source": [
    "from sklearn.tree import DecisionTreeClassifier\n",
    "dtc=DecisionTreeClassifier(random_state=42)\n",
    "dtc.fit(X_train,y_train)"
   ]
  },
  {
   "cell_type": "markdown",
   "metadata": {},
   "source": [
    "#### Prediction and Accuracy"
   ]
  },
  {
   "cell_type": "code",
   "execution_count": null,
   "metadata": {
    "execution": {
     "iopub.execute_input": "2023-06-09T05:27:51.952389Z",
     "iopub.status.busy": "2023-06-09T05:27:51.951514Z",
     "iopub.status.idle": "2023-06-09T05:27:51.966273Z",
     "shell.execute_reply": "2023-06-09T05:27:51.965306Z",
     "shell.execute_reply.started": "2023-06-09T05:27:51.952354Z"
    }
   },
   "outputs": [],
   "source": [
    "pred4=dtc.predict(X_val)\n",
    "a4=accuracy_score(y_val,pred4)\n",
    "print(\"Accuracy Decision Tree Classifier : \",round(accuracy_score(y_val,pred4),4)*100, '%')"
   ]
  },
  {
   "cell_type": "markdown",
   "metadata": {},
   "source": [
    "## 5. Multinomial Naive Bayes"
   ]
  },
  {
   "cell_type": "code",
   "execution_count": null,
   "metadata": {
    "execution": {
     "iopub.execute_input": "2023-06-09T05:27:51.969995Z",
     "iopub.status.busy": "2023-06-09T05:27:51.968799Z",
     "iopub.status.idle": "2023-06-09T05:27:51.994608Z",
     "shell.execute_reply": "2023-06-09T05:27:51.993487Z",
     "shell.execute_reply.started": "2023-06-09T05:27:51.969962Z"
    }
   },
   "outputs": [],
   "source": [
    "from sklearn.naive_bayes import MultinomialNB\n",
    "mnnb= MultinomialNB()\n",
    "mnnb.fit(X_train,y_train)"
   ]
  },
  {
   "cell_type": "markdown",
   "metadata": {},
   "source": [
    "#### Prediction and Accuracy"
   ]
  },
  {
   "cell_type": "code",
   "execution_count": null,
   "metadata": {
    "execution": {
     "iopub.execute_input": "2023-06-09T05:27:51.996879Z",
     "iopub.status.busy": "2023-06-09T05:27:51.99608Z",
     "iopub.status.idle": "2023-06-09T05:27:52.010771Z",
     "shell.execute_reply": "2023-06-09T05:27:52.009734Z",
     "shell.execute_reply.started": "2023-06-09T05:27:51.996809Z"
    }
   },
   "outputs": [],
   "source": [
    "pred5=mnnb.predict(X_val)\n",
    "a5=accuracy_score(y_val,pred5)\n",
    "print(\"Accuracy Multinomial Naive Bayes : \",round(accuracy_score(y_val,pred5),4)*100, '%')"
   ]
  },
  {
   "cell_type": "markdown",
   "metadata": {},
   "source": [
    "## 6. Support Vector Classifier"
   ]
  },
  {
   "cell_type": "code",
   "execution_count": null,
   "metadata": {
    "execution": {
     "iopub.execute_input": "2023-06-09T05:27:52.012641Z",
     "iopub.status.busy": "2023-06-09T05:27:52.012348Z",
     "iopub.status.idle": "2023-06-09T05:27:54.496875Z",
     "shell.execute_reply": "2023-06-09T05:27:54.495815Z",
     "shell.execute_reply.started": "2023-06-09T05:27:52.012615Z"
    }
   },
   "outputs": [],
   "source": [
    "from sklearn.svm import SVC\n",
    "svc=SVC()\n",
    "svc.fit(X_train,y_train)"
   ]
  },
  {
   "cell_type": "markdown",
   "metadata": {},
   "source": [
    "#### Prediction and Accuracy"
   ]
  },
  {
   "cell_type": "code",
   "execution_count": null,
   "metadata": {
    "execution": {
     "iopub.execute_input": "2023-06-09T05:27:54.499149Z",
     "iopub.status.busy": "2023-06-09T05:27:54.498727Z",
     "iopub.status.idle": "2023-06-09T05:27:55.200389Z",
     "shell.execute_reply": "2023-06-09T05:27:55.199146Z",
     "shell.execute_reply.started": "2023-06-09T05:27:54.499112Z"
    }
   },
   "outputs": [],
   "source": [
    "pred6 =svc.predict(X_val)\n",
    "a6=accuracy_score(y_val,pred6)\n",
    "print(\"Accuracy Support Vector Classifier : \",round(accuracy_score(y_val,pred6),1)*100, '%')"
   ]
  },
  {
   "cell_type": "markdown",
   "metadata": {},
   "source": [
    "## 7. Random Forest Classifier"
   ]
  },
  {
   "cell_type": "code",
   "execution_count": null,
   "metadata": {
    "execution": {
     "iopub.execute_input": "2023-06-09T05:27:55.20264Z",
     "iopub.status.busy": "2023-06-09T05:27:55.202201Z",
     "iopub.status.idle": "2023-06-09T05:27:56.38196Z",
     "shell.execute_reply": "2023-06-09T05:27:56.381152Z",
     "shell.execute_reply.started": "2023-06-09T05:27:55.202591Z"
    }
   },
   "outputs": [],
   "source": [
    "from sklearn.ensemble import RandomForestClassifier\n",
    "rfc=RandomForestClassifier()\n",
    "rfc.fit(X_train,y_train)"
   ]
  },
  {
   "cell_type": "markdown",
   "metadata": {},
   "source": [
    "#### Prediction and Accuracy"
   ]
  },
  {
   "cell_type": "code",
   "execution_count": null,
   "metadata": {
    "execution": {
     "iopub.execute_input": "2023-06-09T05:27:56.383887Z",
     "iopub.status.busy": "2023-06-09T05:27:56.383012Z",
     "iopub.status.idle": "2023-06-09T05:27:56.450662Z",
     "shell.execute_reply": "2023-06-09T05:27:56.449426Z",
     "shell.execute_reply.started": "2023-06-09T05:27:56.383847Z"
    }
   },
   "outputs": [],
   "source": [
    "pred7=rfc.predict(X_val)\n",
    "a7=accuracy_score(y_val,pred7)\n",
    "print(\"Accuracy Random Forest Classifier : \",round(accuracy_score(y_val,pred7),2)*100, '%')"
   ]
  },
  {
   "cell_type": "markdown",
   "metadata": {},
   "source": [
    "## 8. Multi-layer Perceptron classifier"
   ]
  },
  {
   "cell_type": "code",
   "execution_count": null,
   "metadata": {
    "execution": {
     "iopub.execute_input": "2023-06-09T05:27:56.453013Z",
     "iopub.status.busy": "2023-06-09T05:27:56.452502Z",
     "iopub.status.idle": "2023-06-09T05:27:58.266815Z",
     "shell.execute_reply": "2023-06-09T05:27:58.26536Z",
     "shell.execute_reply.started": "2023-06-09T05:27:56.452967Z"
    }
   },
   "outputs": [],
   "source": [
    "from sklearn.neural_network import MLPClassifier\n",
    "mlp= MLPClassifier()\n",
    "mlp.fit(X_train, y_train)"
   ]
  },
  {
   "cell_type": "markdown",
   "metadata": {},
   "source": [
    "#### Prediction and Accuracy"
   ]
  },
  {
   "cell_type": "code",
   "execution_count": null,
   "metadata": {
    "execution": {
     "iopub.execute_input": "2023-06-09T05:27:58.278718Z",
     "iopub.status.busy": "2023-06-09T05:27:58.274579Z",
     "iopub.status.idle": "2023-06-09T05:27:58.308205Z",
     "shell.execute_reply": "2023-06-09T05:27:58.306775Z",
     "shell.execute_reply.started": "2023-06-09T05:27:58.278653Z"
    }
   },
   "outputs": [],
   "source": [
    "pred8=mlp.predict(X_val)\n",
    "a8=accuracy_score(y_val,pred8)\n",
    "print(\"Accuracy Multi-layer Perceptron classifier : \",round(accuracy_score(y_val,pred8),2)*100, '%')"
   ]
  },
  {
   "cell_type": "markdown",
   "metadata": {},
   "source": [
    "## 9. Gradient Boosting"
   ]
  },
  {
   "cell_type": "code",
   "execution_count": null,
   "metadata": {
    "execution": {
     "iopub.execute_input": "2023-06-09T05:27:58.319153Z",
     "iopub.status.busy": "2023-06-09T05:27:58.314978Z",
     "iopub.status.idle": "2023-06-09T05:27:59.506768Z",
     "shell.execute_reply": "2023-06-09T05:27:59.505652Z",
     "shell.execute_reply.started": "2023-06-09T05:27:58.319088Z"
    }
   },
   "outputs": [],
   "source": [
    "from sklearn.ensemble import GradientBoostingClassifier\n",
    "gbc=GradientBoostingClassifier()\n",
    "gbc.fit(X_train,y_train)"
   ]
  },
  {
   "cell_type": "markdown",
   "metadata": {},
   "source": [
    "#### Prediction and Accuracy"
   ]
  },
  {
   "cell_type": "code",
   "execution_count": null,
   "metadata": {
    "execution": {
     "iopub.execute_input": "2023-06-09T05:27:59.508978Z",
     "iopub.status.busy": "2023-06-09T05:27:59.508096Z",
     "iopub.status.idle": "2023-06-09T05:27:59.526187Z",
     "shell.execute_reply": "2023-06-09T05:27:59.525Z",
     "shell.execute_reply.started": "2023-06-09T05:27:59.508944Z"
    }
   },
   "outputs": [],
   "source": [
    "pred9=gbc.predict(X_val)\n",
    "a9=accuracy_score(y_val,pred9)\n",
    "print(\"Accuracy Gradient Boosting : \",round(accuracy_score(y_val,pred9),2)*100, '%')"
   ]
  },
  {
   "cell_type": "markdown",
   "metadata": {},
   "source": [
    "## 10. Logistic Regression"
   ]
  },
  {
   "cell_type": "code",
   "execution_count": null,
   "metadata": {
    "execution": {
     "iopub.execute_input": "2023-06-09T05:27:59.528505Z",
     "iopub.status.busy": "2023-06-09T05:27:59.527482Z",
     "iopub.status.idle": "2023-06-09T05:27:59.706687Z",
     "shell.execute_reply": "2023-06-09T05:27:59.705267Z",
     "shell.execute_reply.started": "2023-06-09T05:27:59.528471Z"
    }
   },
   "outputs": [],
   "source": [
    "from sklearn.linear_model import LogisticRegression\n",
    "lg= LogisticRegression()\n",
    "lg.fit(X_train,y_train)"
   ]
  },
  {
   "cell_type": "markdown",
   "metadata": {},
   "source": [
    "#### Prediction and Accuracy"
   ]
  },
  {
   "cell_type": "code",
   "execution_count": null,
   "metadata": {
    "execution": {
     "iopub.execute_input": "2023-06-09T05:27:59.709684Z",
     "iopub.status.busy": "2023-06-09T05:27:59.708659Z",
     "iopub.status.idle": "2023-06-09T05:27:59.739668Z",
     "shell.execute_reply": "2023-06-09T05:27:59.738248Z",
     "shell.execute_reply.started": "2023-06-09T05:27:59.709619Z"
    }
   },
   "outputs": [],
   "source": [
    "pred10=gbc.predict(X_val)\n",
    "a10=accuracy_score(y_val,pred10)\n",
    "print(\"Accuracy Logistic Regression : \",round(accuracy_score(y_val,pred10),2)*100, '%')\n"
   ]
  },
  {
   "cell_type": "markdown",
   "metadata": {},
   "source": [
    "## Model  Comparison"
   ]
  },
  {
   "cell_type": "code",
   "execution_count": null,
   "metadata": {
    "execution": {
     "iopub.execute_input": "2023-06-09T05:27:59.742818Z",
     "iopub.status.busy": "2023-06-09T05:27:59.741906Z",
     "iopub.status.idle": "2023-06-09T05:27:59.779738Z",
     "shell.execute_reply": "2023-06-09T05:27:59.778279Z",
     "shell.execute_reply.started": "2023-06-09T05:27:59.74276Z"
    }
   },
   "outputs": [],
   "source": [
    "models=['K Nearest Neighbor','AdaBoost Classifier','Gaussian Naive Bayes','Decision Tree Classifier','Multinomial Naive Bayes',\n",
    "        'Support Vector Classifier','Random Forest Classifier','Multi-layer Perceptron classifier','Gradient Boosting','Logistic Regression']\n",
    "acc=[a1,a2,a3,a4,a5,a6,a7,a8,a9,a10]\n",
    "data={'Models':['K Nearest Neighbor','AdaBoost Classifier','Gaussian Naive Bayes','Decision Tree Classifier','Multinomial Naive Bayes',\n",
    "                'Support Vector Classifier','Random Forest Classifier','Multi-layer Perceptron classifier','Gradient Boosting','Logistic Regression'],\n",
    "      'Accuracy':[a1,a2,a3,a4,a5,a6,a7,a8,a9,a10]}\n",
    "pd.DataFrame(data).style.background_gradient(cmap='Blues')"
   ]
  },
  {
   "cell_type": "markdown",
   "metadata": {},
   "source": [
    "## Visualizing Accuracy of 10 Models "
   ]
  },
  {
   "cell_type": "code",
   "execution_count": null,
   "metadata": {
    "execution": {
     "iopub.execute_input": "2023-06-09T05:27:59.790179Z",
     "iopub.status.busy": "2023-06-09T05:27:59.786472Z",
     "iopub.status.idle": "2023-06-09T05:28:00.209532Z",
     "shell.execute_reply": "2023-06-09T05:28:00.208607Z",
     "shell.execute_reply.started": "2023-06-09T05:27:59.79011Z"
    }
   },
   "outputs": [],
   "source": [
    "#plotting\n",
    "plt.title('Comparing Models')\n",
    "plt.xlabel('Accuracy')\n",
    "sns.barplot(x=acc,y=models,width=1,palette='rainbow')"
   ]
  },
  {
   "cell_type": "markdown",
   "metadata": {},
   "source": [
    "## Submission"
   ]
  },
  {
   "cell_type": "markdown",
   "metadata": {},
   "source": [
    "#### Test Data Exploration"
   ]
  },
  {
   "cell_type": "code",
   "execution_count": null,
   "metadata": {
    "execution": {
     "iopub.execute_input": "2023-06-09T05:28:00.21145Z",
     "iopub.status.busy": "2023-06-09T05:28:00.210686Z",
     "iopub.status.idle": "2023-06-09T05:28:00.232534Z",
     "shell.execute_reply": "2023-06-09T05:28:00.231695Z",
     "shell.execute_reply.started": "2023-06-09T05:28:00.211415Z"
    }
   },
   "outputs": [],
   "source": [
    "test.head()"
   ]
  },
  {
   "cell_type": "code",
   "execution_count": null,
   "metadata": {
    "execution": {
     "iopub.execute_input": "2023-06-09T05:28:00.234757Z",
     "iopub.status.busy": "2023-06-09T05:28:00.23376Z",
     "iopub.status.idle": "2023-06-09T05:28:00.239626Z",
     "shell.execute_reply": "2023-06-09T05:28:00.238734Z",
     "shell.execute_reply.started": "2023-06-09T05:28:00.234722Z"
    }
   },
   "outputs": [],
   "source": [
    "print(\"Shape of test dataset : \",test.shape)"
   ]
  },
  {
   "cell_type": "code",
   "execution_count": null,
   "metadata": {
    "execution": {
     "iopub.execute_input": "2023-06-09T05:28:00.241265Z",
     "iopub.status.busy": "2023-06-09T05:28:00.240947Z",
     "iopub.status.idle": "2023-06-09T05:28:00.268052Z",
     "shell.execute_reply": "2023-06-09T05:28:00.266925Z",
     "shell.execute_reply.started": "2023-06-09T05:28:00.241236Z"
    }
   },
   "outputs": [],
   "source": [
    "#checking the no of null values in the dataset\n",
    "test.isnull().sum().sort_values(ascending=False)"
   ]
  },
  {
   "cell_type": "code",
   "execution_count": null,
   "metadata": {
    "execution": {
     "iopub.execute_input": "2023-06-09T05:28:00.27043Z",
     "iopub.status.busy": "2023-06-09T05:28:00.269974Z",
     "iopub.status.idle": "2023-06-09T05:28:00.288756Z",
     "shell.execute_reply": "2023-06-09T05:28:00.287724Z",
     "shell.execute_reply.started": "2023-06-09T05:28:00.270392Z"
    }
   },
   "outputs": [],
   "source": [
    "#filling null values with mean in numerical columns\n",
    "\n",
    "test['Age']=test['Age'].fillna(test['Age'].mean())\n",
    "test['RoomService']=test['RoomService'].fillna(test['RoomService'].mean())\n",
    "test['FoodCourt']=test['FoodCourt'].fillna(test['FoodCourt'].mean())\n",
    "test['ShoppingMall']=test['ShoppingMall'].fillna(test['ShoppingMall'].mean())\n",
    "test['Spa']=test['Spa'].fillna(test['Spa'].mean())\n",
    "test['VRDeck']=test['VRDeck'].fillna(test['VRDeck'].mean())"
   ]
  },
  {
   "cell_type": "code",
   "execution_count": null,
   "metadata": {
    "execution": {
     "iopub.execute_input": "2023-06-09T05:28:00.290771Z",
     "iopub.status.busy": "2023-06-09T05:28:00.290259Z",
     "iopub.status.idle": "2023-06-09T05:28:00.320813Z",
     "shell.execute_reply": "2023-06-09T05:28:00.319657Z",
     "shell.execute_reply.started": "2023-06-09T05:28:00.290739Z"
    }
   },
   "outputs": [],
   "source": [
    "#filling null values with mode in categorical columns\n",
    "\n",
    "test['HomePlanet']=test['HomePlanet'].fillna(test['HomePlanet'].mode()[0])\n",
    "test['CryoSleep']=test['CryoSleep'].fillna(test['CryoSleep'].mode()[0])\n",
    "test['Destination']=test['Destination'].fillna(test['Destination'].mode()[0])\n",
    "test['VIP']=test['VIP'].fillna(test['VIP'].mode()[0])\n",
    "test['Cabin']=test['Cabin'].fillna(test['Cabin'].mode()[0])"
   ]
  },
  {
   "cell_type": "code",
   "execution_count": null,
   "metadata": {
    "execution": {
     "iopub.execute_input": "2023-06-09T05:28:00.323325Z",
     "iopub.status.busy": "2023-06-09T05:28:00.322762Z",
     "iopub.status.idle": "2023-06-09T05:28:00.336022Z",
     "shell.execute_reply": "2023-06-09T05:28:00.33481Z",
     "shell.execute_reply.started": "2023-06-09T05:28:00.323282Z"
    }
   },
   "outputs": [],
   "source": [
    "test['Cabin_side'] = test['Cabin'].apply(lambda x: x.split('/')[2])\n",
    "test['Cabin_side'].unique()"
   ]
  },
  {
   "cell_type": "code",
   "execution_count": null,
   "metadata": {
    "execution": {
     "iopub.execute_input": "2023-06-09T05:28:00.337489Z",
     "iopub.status.busy": "2023-06-09T05:28:00.33712Z",
     "iopub.status.idle": "2023-06-09T05:28:00.3507Z",
     "shell.execute_reply": "2023-06-09T05:28:00.349848Z",
     "shell.execute_reply.started": "2023-06-09T05:28:00.337459Z"
    }
   },
   "outputs": [],
   "source": [
    "#converting categorical feature into numerical feature\n",
    "test.HomePlanet=test.HomePlanet.map({'Europa':0,'Earth':1,'Mars':2})\n",
    "test.Cabin_side=test.Cabin_side.map({'P':0,'S':1})"
   ]
  },
  {
   "cell_type": "code",
   "execution_count": null,
   "metadata": {
    "execution": {
     "iopub.execute_input": "2023-06-09T05:28:00.352213Z",
     "iopub.status.busy": "2023-06-09T05:28:00.351917Z",
     "iopub.status.idle": "2023-06-09T05:28:00.366806Z",
     "shell.execute_reply": "2023-06-09T05:28:00.366032Z",
     "shell.execute_reply.started": "2023-06-09T05:28:00.352187Z"
    }
   },
   "outputs": [],
   "source": [
    "test.Destination=test.Destination.map({'TRAPPIST-1e':0,'PSO J318.5-22':1,'55 Cancri e':2})"
   ]
  },
  {
   "cell_type": "code",
   "execution_count": null,
   "metadata": {
    "execution": {
     "iopub.execute_input": "2023-06-09T05:28:00.368535Z",
     "iopub.status.busy": "2023-06-09T05:28:00.367885Z",
     "iopub.status.idle": "2023-06-09T05:28:00.391871Z",
     "shell.execute_reply": "2023-06-09T05:28:00.390884Z",
     "shell.execute_reply.started": "2023-06-09T05:28:00.368507Z"
    }
   },
   "outputs": [],
   "source": [
    "test[\"CryoSleep\"].replace(False,0,inplace=True)\n",
    "test[\"CryoSleep\"].replace(True,1,inplace=True)\n",
    "test[\"VIP\"].replace(False,0,inplace=True)\n",
    "test[\"VIP\"].replace(True,1,inplace=True)"
   ]
  },
  {
   "cell_type": "code",
   "execution_count": null,
   "metadata": {
    "execution": {
     "iopub.execute_input": "2023-06-09T05:28:00.393987Z",
     "iopub.status.busy": "2023-06-09T05:28:00.393Z",
     "iopub.status.idle": "2023-06-09T05:28:00.400315Z",
     "shell.execute_reply": "2023-06-09T05:28:00.399292Z",
     "shell.execute_reply.started": "2023-06-09T05:28:00.393956Z"
    }
   },
   "outputs": [],
   "source": [
    "#droping unwanted columns\n",
    "test_df=test.drop(['Name','Cabin'],axis=1)"
   ]
  },
  {
   "cell_type": "code",
   "execution_count": null,
   "metadata": {
    "execution": {
     "iopub.execute_input": "2023-06-09T05:28:00.402127Z",
     "iopub.status.busy": "2023-06-09T05:28:00.401717Z",
     "iopub.status.idle": "2023-06-09T05:28:00.429028Z",
     "shell.execute_reply": "2023-06-09T05:28:00.427713Z",
     "shell.execute_reply.started": "2023-06-09T05:28:00.402089Z"
    }
   },
   "outputs": [],
   "source": [
    "#final_df\n",
    "test_df.head()"
   ]
  },
  {
   "cell_type": "code",
   "execution_count": null,
   "metadata": {
    "execution": {
     "iopub.execute_input": "2023-06-09T05:28:00.431075Z",
     "iopub.status.busy": "2023-06-09T05:28:00.430633Z",
     "iopub.status.idle": "2023-06-09T05:28:00.449409Z",
     "shell.execute_reply": "2023-06-09T05:28:00.448384Z",
     "shell.execute_reply.started": "2023-06-09T05:28:00.431035Z"
    }
   },
   "outputs": [],
   "source": [
    "#checking null values\n",
    "test_df.isnull().sum()"
   ]
  },
  {
   "cell_type": "code",
   "execution_count": null,
   "metadata": {
    "execution": {
     "iopub.execute_input": "2023-06-09T05:28:00.450929Z",
     "iopub.status.busy": "2023-06-09T05:28:00.450617Z",
     "iopub.status.idle": "2023-06-09T05:28:09.349121Z",
     "shell.execute_reply": "2023-06-09T05:28:09.348006Z",
     "shell.execute_reply.started": "2023-06-09T05:28:00.450903Z"
    }
   },
   "outputs": [],
   "source": [
    "#Hyperparameter tuning in Gradient Boosting Classifier\n",
    "\n",
    "gbcc=GradientBoostingClassifier(n_estimators=210,learning_rate=0.01,random_state=42,max_depth=10,subsample=0.7)\n",
    "gbcc.fit(X_train,y_train)\n"
   ]
  },
  {
   "cell_type": "code",
   "execution_count": null,
   "metadata": {
    "execution": {
     "iopub.execute_input": "2023-06-09T05:28:09.351611Z",
     "iopub.status.busy": "2023-06-09T05:28:09.350879Z",
     "iopub.status.idle": "2023-06-09T05:28:09.397635Z",
     "shell.execute_reply": "2023-06-09T05:28:09.396571Z",
     "shell.execute_reply.started": "2023-06-09T05:28:09.351571Z"
    }
   },
   "outputs": [],
   "source": [
    "pred=gbcc.predict(X_val)\n",
    "acc=accuracy_score(y_val,pred)\n",
    "print(\"Accuracy  : \",round(accuracy_score(y_val,pred),5)*100, '%')"
   ]
  },
  {
   "cell_type": "code",
   "execution_count": null,
   "metadata": {
    "execution": {
     "iopub.execute_input": "2023-06-09T05:28:09.400358Z",
     "iopub.status.busy": "2023-06-09T05:28:09.399575Z",
     "iopub.status.idle": "2023-06-09T05:28:09.494128Z",
     "shell.execute_reply": "2023-06-09T05:28:09.493043Z",
     "shell.execute_reply.started": "2023-06-09T05:28:09.400316Z"
    }
   },
   "outputs": [],
   "source": [
    "#final prediction\n",
    "pred_final=gbcc.predict(test_df)"
   ]
  },
  {
   "cell_type": "code",
   "execution_count": null,
   "metadata": {
    "execution": {
     "iopub.execute_input": "2023-06-09T05:28:09.496101Z",
     "iopub.status.busy": "2023-06-09T05:28:09.495353Z",
     "iopub.status.idle": "2023-06-09T05:28:09.502598Z",
     "shell.execute_reply": "2023-06-09T05:28:09.501466Z",
     "shell.execute_reply.started": "2023-06-09T05:28:09.49607Z"
    }
   },
   "outputs": [],
   "source": [
    "a=test_df['PassengerId']\n",
    "x=pd.DataFrame(a)\n",
    "b=pred_final\n",
    "y=pd.DataFrame(b)"
   ]
  },
  {
   "cell_type": "code",
   "execution_count": null,
   "metadata": {
    "execution": {
     "iopub.execute_input": "2023-06-09T05:28:09.504461Z",
     "iopub.status.busy": "2023-06-09T05:28:09.50413Z",
     "iopub.status.idle": "2023-06-09T05:28:10.050377Z",
     "shell.execute_reply": "2023-06-09T05:28:10.049244Z",
     "shell.execute_reply.started": "2023-06-09T05:28:09.504433Z"
    }
   },
   "outputs": [],
   "source": [
    "final=pd.concat([x,y],axis=1)\n",
    "final.replace(0,False,inplace=True)\n",
    "final.replace(1,True,inplace=True)\n",
    "final.rename(columns={0:'Transported'},inplace=True)\n",
    "final"
   ]
  },
  {
   "cell_type": "code",
   "execution_count": null,
   "metadata": {
    "execution": {
     "iopub.execute_input": "2023-06-09T05:28:10.052362Z",
     "iopub.status.busy": "2023-06-09T05:28:10.051979Z",
     "iopub.status.idle": "2023-06-09T05:28:10.075083Z",
     "shell.execute_reply": "2023-06-09T05:28:10.07397Z",
     "shell.execute_reply.started": "2023-06-09T05:28:10.052329Z"
    }
   },
   "outputs": [],
   "source": [
    "final.to_csv('spaceship_titanic.csv',index=False)"
   ]
  },
  {
   "cell_type": "code",
   "execution_count": null,
   "metadata": {
    "execution": {
     "iopub.execute_input": "2023-06-09T05:28:10.079579Z",
     "iopub.status.busy": "2023-06-09T05:28:10.078624Z",
     "iopub.status.idle": "2023-06-09T05:28:10.304956Z",
     "shell.execute_reply": "2023-06-09T05:28:10.303906Z",
     "shell.execute_reply.started": "2023-06-09T05:28:10.079539Z"
    }
   },
   "outputs": [],
   "source": [
    "#visualizing predicted values\n",
    "sns.countplot(x='Transported',data=final,palette=['r','g'])"
   ]
  }
 ],
 "metadata": {
  "kernelspec": {
   "display_name": "Python 3 (ipykernel)",
   "language": "python",
   "name": "python3"
  },
  "language_info": {
   "codemirror_mode": {
    "name": "ipython",
    "version": 3
   },
   "file_extension": ".py",
   "mimetype": "text/x-python",
   "name": "python",
   "nbconvert_exporter": "python",
   "pygments_lexer": "ipython3",
   "version": "3.10.9"
  }
 },
 "nbformat": 4,
 "nbformat_minor": 4
}
